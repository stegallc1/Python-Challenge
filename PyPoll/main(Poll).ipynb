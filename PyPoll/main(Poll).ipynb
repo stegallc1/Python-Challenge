{
 "cells": [
  {
   "cell_type": "code",
   "execution_count": 1,
   "metadata": {},
   "outputs": [],
   "source": [
    "import csv"
   ]
  },
  {
   "cell_type": "code",
   "execution_count": 3,
   "metadata": {},
   "outputs": [],
   "source": [
    "input_path = \"election_data.csv\"\n",
    "output_path = \"Results_Analysis.txt\""
   ]
  },
  {
   "cell_type": "code",
   "execution_count": 4,
   "metadata": {},
   "outputs": [],
   "source": [
    "candidate_name = 2"
   ]
  },
  {
   "cell_type": "code",
   "execution_count": 5,
   "metadata": {},
   "outputs": [],
   "source": [
    "total_votes = 0 \n",
    "candidates_list = {}\n",
    "analysis = []  "
   ]
  },
  {
   "cell_type": "code",
   "execution_count": 8,
   "metadata": {},
   "outputs": [],
   "source": [
    "with open(input_path, 'r') as csvfile:\n",
    "    csvreader = csv.reader(csvfile, delimiter=',')\n",
    "    next(csvreader)\n",
    "    \n",
    "    for row in csvreader:\n",
    "        total_votes += 1\n",
    "\n",
    "        if not row[candidate_name].title() in candidates_list:\n",
    "            candidates_list[row[candidate_name].title()] = {}\n",
    "            candidates_list[row[candidate_name].title()]['votes'] = 1\n",
    "        else:\n",
    "            candidates_list[row[candidate_name].title()]['votes'] += 1"
   ]
  },
  {
   "cell_type": "code",
   "execution_count": 9,
   "metadata": {},
   "outputs": [],
   "source": [
    "for candidate in candidates_list.values():\n",
    "    candidate['pct_won'] = candidate['votes'] / total_votes * 100"
   ]
  },
  {
   "cell_type": "code",
   "execution_count": 10,
   "metadata": {},
   "outputs": [],
   "source": [
    "winner = max(candidates_list, key=lambda i: candidates_list[i]['votes'])"
   ]
  },
  {
   "cell_type": "code",
   "execution_count": 11,
   "metadata": {},
   "outputs": [],
   "source": [
    "analysis.append('Election Results')\n",
    "analysis.append('-------------------------')\n",
    "analysis.append('Total Votes: {:0,.0f}'.format(total_votes))\n",
    "analysis.append('-------------------------')\n",
    "for candidate, vote in candidates_list.items():\n",
    "    analysis.append('{}: {:0.3f}% ({:0,.0f})'.format(candidate, vote['pct_won'], vote['votes']))\n",
    "analysis.append('-------------------------')\n",
    "analysis.append(f'Winner: {winner}')\n",
    "analysis.append('-------------------------')"
   ]
  },
  {
   "cell_type": "code",
   "execution_count": 12,
   "metadata": {},
   "outputs": [
    {
     "name": "stdout",
     "output_type": "stream",
     "text": [
      "Election Results\n",
      "-------------------------\n",
      "Total Votes: 3,521,001\n",
      "-------------------------\n",
      "Khan: 63.000% (2,218,231)\n",
      "Correy: 20.000% (704,200)\n",
      "Li: 14.000% (492,940)\n",
      "O'Tooley: 3.000% (105,630)\n",
      "-------------------------\n",
      "Winner: Khan\n",
      "-------------------------\n"
     ]
    }
   ],
   "source": [
    "with open(output_path, 'w') as text_file:\n",
    "    for item in analysis:\n",
    "        print(item)\n",
    "        text_file.write(item + '\\n')"
   ]
  },
  {
   "cell_type": "code",
   "execution_count": null,
   "metadata": {},
   "outputs": [],
   "source": []
  }
 ],
 "metadata": {
  "kernelspec": {
   "display_name": "Python 3",
   "language": "python",
   "name": "python3"
  },
  "language_info": {
   "codemirror_mode": {
    "name": "ipython",
    "version": 3
   },
   "file_extension": ".py",
   "mimetype": "text/x-python",
   "name": "python",
   "nbconvert_exporter": "python",
   "pygments_lexer": "ipython3",
   "version": "3.7.4"
  }
 },
 "nbformat": 4,
 "nbformat_minor": 2
}
